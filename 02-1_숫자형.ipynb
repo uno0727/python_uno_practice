{
 "cells": [
  {
   "cell_type": "markdown",
   "metadata": {},
   "source": [
    "### 숫자형은 어떻게 만들고 사용할까?\n",
    "* 정수, 실수, 8진수, 16진수"
   ]
  },
  {
   "cell_type": "code",
   "execution_count": 6,
   "metadata": {},
   "outputs": [
    {
     "name": "stdout",
     "output_type": "stream",
     "text": [
      "123\n",
      "-178\n",
      "0\n"
     ]
    }
   ],
   "source": [
    "# 정수형\n",
    "\n",
    "\n",
    "a = 123\n",
    "b = -178\n",
    "c = 0\n",
    "\n",
    "print(a)\n",
    "print(b)\n",
    "print(c)\n"
   ]
  },
  {
   "cell_type": "code",
   "execution_count": 7,
   "metadata": {},
   "outputs": [
    {
     "name": "stdout",
     "output_type": "stream",
     "text": [
      "1.2\n",
      "-3.45\n",
      "<class 'float'>\n",
      "<class 'float'>\n"
     ]
    }
   ],
   "source": [
    "# 실수형\n",
    "\n",
    "a = 1.2\n",
    "b = -3.45\n",
    "\n",
    "print(a)\n",
    "print(b)\n",
    "\n",
    "print(type(a))\n",
    "print(type(b))\n"
   ]
  },
  {
   "cell_type": "code",
   "execution_count": 8,
   "metadata": {},
   "outputs": [
    {
     "name": "stdout",
     "output_type": "stream",
     "text": [
      "127\n",
      "1\n",
      "9\n",
      "73\n"
     ]
    }
   ],
   "source": [
    "# 8진수, 16진수\n",
    "\n",
    "a = 0o177\n",
    "# 1\n",
    "b = 0o1\n",
    "\n",
    "# 8*1 + 1\n",
    "c = 0o11\n",
    "\n",
    "# 1 * (8 * 8) + 1 * (8) * 1 \n",
    "d = 0o111\n",
    "\n",
    "# 1 * (8 * 8 * 8) + 1 * (8 * 8) + 1 * (8) + 1\n",
    "e = 0o1111\n",
    "\n",
    "\n",
    "print(a)\n",
    "print(b)\n",
    "print(c)\n",
    "print(d)\n"
   ]
  },
  {
   "cell_type": "code",
   "execution_count": 9,
   "metadata": {},
   "outputs": [
    {
     "name": "stdout",
     "output_type": "stream",
     "text": [
      "1023\n",
      "1\n",
      "17\n",
      "273\n",
      "4369\n"
     ]
    }
   ],
   "source": [
    "# 16진수\n",
    "\n",
    "# 3 * (16 * 16) + 15 * (16) + 15\n",
    "a = 0x3ff\n",
    "\n",
    "# 1\n",
    "b = 0x1\n",
    "\n",
    "# 1 * (16) + 1\n",
    "c = 0x11\n",
    "\n",
    "# 1 * (16 * 16) + 1 * (16) + 1\n",
    "d = 0x111\n",
    "\n",
    "# 1 * (16 * 16) + 1 * (16) + 1 * (16) + 1\n",
    "e = 0x1111\n",
    "\n",
    "print(a)\n",
    "print(b)\n",
    "print(c)\n",
    "print(d)\n",
    "print(e)\n"
   ]
  },
  {
   "cell_type": "code",
   "execution_count": 10,
   "metadata": {},
   "outputs": [
    {
     "name": "stdout",
     "output_type": "stream",
     "text": [
      "7\n",
      "-1\n",
      "12\n",
      "0.75\n"
     ]
    }
   ],
   "source": [
    "# 사칙연산\n",
    "\n",
    "\n",
    "a = 3\n",
    "b = 4\n",
    "\n",
    "print(a + b)\n",
    "print(a - b)\n",
    "print(a * b)\n",
    "print(a / b)\n"
   ]
  },
  {
   "cell_type": "code",
   "execution_count": 16,
   "metadata": {},
   "outputs": [
    {
     "name": "stdout",
     "output_type": "stream",
     "text": [
      "288.0\n"
     ]
    }
   ],
   "source": [
    "a = 48\n",
    "b = 2\n",
    "c = 9\n",
    "d = 3\n",
    "\n",
    "print(a/b*(c+d))"
   ]
  },
  {
   "cell_type": "code",
   "execution_count": 17,
   "metadata": {},
   "outputs": [
    {
     "name": "stdout",
     "output_type": "stream",
     "text": [
      "81\n",
      "8\n",
      "64\n"
     ]
    }
   ],
   "source": [
    "# x의 y제곱을 나타내는 **연산자\n",
    "\n",
    "a = 3\n",
    "b = 4\n",
    "\n",
    "print(a ** b)\n",
    "\n",
    "# 2의 3승\n",
    "print(2 ** 3)\n",
    "\n",
    "# 4의 3승\n",
    "print(4 ** 3)\n"
   ]
  },
  {
   "cell_type": "code",
   "execution_count": 18,
   "metadata": {},
   "outputs": [
    {
     "name": "stdout",
     "output_type": "stream",
     "text": [
      "1\n",
      "1\n"
     ]
    }
   ],
   "source": [
    "# 나머지를 리턴하는 x연산자\n",
    "\n",
    "a = 7\n",
    "b = 3\n",
    "\n",
    "print(a % b)\n",
    "print(5 % 2)\n"
   ]
  },
  {
   "cell_type": "code",
   "execution_count": 20,
   "metadata": {},
   "outputs": [
    {
     "name": "stdout",
     "output_type": "stream",
     "text": [
      "2\n",
      "2.3333333333333335\n"
     ]
    }
   ],
   "source": [
    "# 몫을 구하는 //연산자\n",
    "\n",
    "a = 7\n",
    "b = 3\n",
    "\n",
    "print(a // b)\n",
    "print(a / b)\n"
   ]
  },
  {
   "cell_type": "code",
   "execution_count": 22,
   "metadata": {},
   "outputs": [
    {
     "name": "stdout",
     "output_type": "stream",
     "text": [
      "<class 'str'>\n",
      "<class 'int'>\n",
      "123\n",
      "123\n",
      "<class 'int'>\n"
     ]
    }
   ],
   "source": [
    "a = \"123\"\n",
    "b = 123\n",
    "c = int(a)\n",
    "\n",
    "print(type(a))\n",
    "print(type(b))\n",
    "\n",
    "print(a)\n",
    "print(c)\n",
    "print(type(c))\n",
    "\n"
   ]
  },
  {
   "cell_type": "code",
   "execution_count": 27,
   "metadata": {},
   "outputs": [
    {
     "name": "stdout",
     "output_type": "stream",
     "text": [
      "110\n"
     ]
    }
   ],
   "source": [
    "a = input(\"숫자를 입력해 주세요: \")\n",
    "print(int(a) + 10)"
   ]
  },
  {
   "cell_type": "code",
   "execution_count": null,
   "metadata": {},
   "outputs": [],
   "source": []
  },
  {
   "cell_type": "code",
   "execution_count": null,
   "metadata": {},
   "outputs": [],
   "source": []
  },
  {
   "cell_type": "code",
   "execution_count": null,
   "metadata": {},
   "outputs": [],
   "source": []
  },
  {
   "cell_type": "code",
   "execution_count": null,
   "metadata": {},
   "outputs": [],
   "source": []
  },
  {
   "cell_type": "code",
   "execution_count": null,
   "metadata": {},
   "outputs": [],
   "source": []
  },
  {
   "cell_type": "code",
   "execution_count": null,
   "metadata": {},
   "outputs": [],
   "source": []
  },
  {
   "cell_type": "code",
   "execution_count": null,
   "metadata": {},
   "outputs": [],
   "source": []
  },
  {
   "cell_type": "code",
   "execution_count": null,
   "metadata": {},
   "outputs": [],
   "source": []
  },
  {
   "cell_type": "code",
   "execution_count": null,
   "metadata": {},
   "outputs": [],
   "source": []
  },
  {
   "cell_type": "code",
   "execution_count": null,
   "metadata": {},
   "outputs": [],
   "source": []
  },
  {
   "cell_type": "code",
   "execution_count": null,
   "metadata": {},
   "outputs": [],
   "source": []
  },
  {
   "cell_type": "code",
   "execution_count": null,
   "metadata": {},
   "outputs": [],
   "source": []
  },
  {
   "cell_type": "code",
   "execution_count": null,
   "metadata": {},
   "outputs": [],
   "source": []
  }
 ],
 "metadata": {
  "kernelspec": {
   "display_name": "Python 3",
   "language": "python",
   "name": "python3"
  },
  "language_info": {
   "codemirror_mode": {
    "name": "ipython",
    "version": 3
   },
   "file_extension": ".py",
   "mimetype": "text/x-python",
   "name": "python",
   "nbconvert_exporter": "python",
   "pygments_lexer": "ipython3",
   "version": "3.12.4"
  }
 },
 "nbformat": 4,
 "nbformat_minor": 2
}
